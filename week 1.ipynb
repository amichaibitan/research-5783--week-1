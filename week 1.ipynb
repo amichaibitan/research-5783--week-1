{
 "cells": [
  {
   "cell_type": "code",
   "execution_count": 292,
   "metadata": {},
   "outputs": [],
   "source": [
    "#  q.1\n",
    "from collections.abc import KeysView\n",
    "from sys import argv\n",
    "\n",
    "def safe_call(f, **kwargs):\n",
    "    # run all the parameters who are not annonataions.\n",
    "    for i in f.__annotations__:\n",
    "        # for of all the parameters from the func \n",
    "        for k,j in kwargs.items():\n",
    "            # the same str\n",
    "            if k == i:\n",
    "                # if it iss not the same type get exeception\n",
    "                if f.__annotations__.get(i) != type(j):\n",
    "                   raise Exception(\"raises an execption\")\n",
    "    return f(**kwargs)\n",
    "# the func f for example\n",
    "def f(x:int , y: float, z):\n",
    "    return x+y+z\n",
    "# \n",
    "safe_call(f, x=5  , y=3.5 , z= 3)\n",
    "\n",
    "if __name__ == '__main__':\n",
    "    import doctest\n",
    "    doctest.testmod()"
   ]
  },
  {
   "cell_type": "code",
   "execution_count": null,
   "metadata": {},
   "outputs": [],
   "source": [
    "# tests\n",
    "import unittest\n",
    "\n",
    "def safe_call(f, **kwargs):\n",
    "    # find if a parameter is not the right type\n",
    "    if f.__annotations__.get(i) != type(j):\n",
    "                   raise Exception(\"raises an execption\")\n",
    "\n",
    "if __name__ == '__main__':\n",
    "    import doctest\n",
    "    doctest.testmod()\n"
   ]
  },
  {
   "cell_type": "code",
   "execution_count": null,
   "metadata": {},
   "outputs": [],
   "source": [
    "# q. 2\n",
    "from queue import Empty, Queue\n",
    "\n",
    "def breadth_first_search(start, end , neighbor_function):\n",
    "    # q= queue , visitit= say if we visit already the node\n",
    "    q = []\n",
    "    q.append([start])\n",
    "    visited = []\n",
    "    visited.append(start)\n",
    "    #  while q is not empty\n",
    "    while len(q) >0 :\n",
    "        # path= make all the path\n",
    "        path = q.pop(0)\n",
    "        node = path[-1]\n",
    "        # print(path , \"s\")\n",
    "        n = neighbor_function(node)\n",
    "        # find the end then give the path from start\n",
    "        if end == node:\n",
    "            return path\n",
    "        # loop of the neighbors\n",
    "        for i in n:\n",
    "            if i not in visited:\n",
    "                visited.append(i)\n",
    "                new_path = path.copy()\n",
    "                new_path.append(i)\n",
    "                q.append(new_path)\n",
    "                print(new_path)\n",
    "                         \n",
    "    return path\n",
    "\n",
    "def four_neighbor_function(node):\n",
    "    (x,y) = node\n",
    "    return [(x+1,y),(x-1,y),(x,y-1),(x,y+1)]\n",
    "    \n",
    "\n",
    "breadth_first_search(start= (0,0) , end = (2,2) ,neighbor_function=four_neighbor_function)\n"
   ]
  }
 ],
 "metadata": {
  "language_info": {
   "name": "python"
  },
  "orig_nbformat": 4
 },
 "nbformat": 4,
 "nbformat_minor": 2
}
